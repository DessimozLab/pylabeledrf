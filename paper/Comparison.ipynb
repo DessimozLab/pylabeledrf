{
 "cells": [
  {
   "cell_type": "code",
   "execution_count": 9,
   "metadata": {
    "collapsed": false
   },
   "outputs": [],
   "source": [
    "from pylabeledrf.computeLRF import *\n",
    "import dendropy\n",
    "from dendropy.calculate import treecompare\n",
    "import logging\n",
    "logging.basicConfig(level=logging.INFO)\n",
    "logger = logging.getLogger(__name__)\n",
    "import warnings\n",
    "import pandas as pd\n",
    "import numpy as np\n",
    "import matplotlib.pyplot as plt\n",
    "import matplotlib\n",
    "import random"
   ]
  },
  {
   "cell_type": "code",
   "execution_count": 10,
   "metadata": {
    "collapsed": false
   },
   "outputs": [],
   "source": [
    "taxa = dendropy.TaxonNamespace()\n",
    "p53 = dendropy.Tree.get_from_path('NOX4.Ensembl99.nhx','newick', taxon_namespace=taxa)"
   ]
  },
  {
   "cell_type": "code",
   "execution_count": 17,
   "metadata": {
    "collapsed": false
   },
   "outputs": [
    {
     "name": "stderr",
     "output_type": "stream",
     "text": [
      "INFO:root:#flips 0 #col 1, #exp 0\n"
     ]
    },
    {
     "data": {
      "text/plain": [
       "<Node object at 0x115bc20f0: 'None' (None)>"
      ]
     },
     "execution_count": 17,
     "metadata": {},
     "output_type": "execute_result"
    }
   ],
   "source": [
    "t1 = parseEnsemblLabels(p53)\n",
    "t2 = mutateLabeledTree(t1.clone(depth=1), 1, model='LRF')\n",
    "randn = t2.find_node_for_taxon(random.choice(taxa))\n",
    "t2.reroot_at_edge(randn.edge)\n",
    "\n"
   ]
  },
  {
   "cell_type": "code",
   "execution_count": 18,
   "metadata": {
    "collapsed": false
   },
   "outputs": [
    {
     "name": "stderr",
     "output_type": "stream",
     "text": [
      "INFO:root:RF dist: 1 | Label subst: 1 | Total LRF: 2\n",
      "\n"
     ]
    },
    {
     "data": {
      "text/plain": [
       "2"
      ]
     },
     "execution_count": 18,
     "metadata": {},
     "output_type": "execute_result"
    }
   ],
   "source": [
    "t2.is_rooted = False\n",
    "computeLRF(t1,t2)\n",
    "#computeLRF_old(t1,t2)"
   ]
  },
  {
   "cell_type": "code",
   "execution_count": null,
   "metadata": {
    "collapsed": true
   },
   "outputs": [],
   "source": [
    "def computeLRF(intree1,intree2):\n",
    "    \"\"\"\n",
    "    Function to compute exactly the Labeled Robinson-Foulds (LRF) distance.\n",
    "\n",
    "    Trees need to have their inner nodes with a label attribute \"speciation\"\n",
    "    or \"duplication\". To correctly process gene trees from Ensembl, use the\n",
    "    :func:`parseEnsemblLabels`.\n",
    "\n",
    "    :param intree1: a labeled tree as Dendropy object\n",
    "    :param intree2: a labeled tree as Dendropy object\n",
    "    \"\"\"\n",
    "\n",
    "    # This implementation builds upon the datastructure and ideas of\n",
    "    #    William HE Day, Optimal algorithms for comparing trees with \n",
    "    #    labeled leaves\n",
    "    #    J Classification 2:7–28. 1985. doi: 10.1007/BF01908061\n",
    "\n",
    "\n",
    "    # Define the table X  according to (Day 1985) to have contiguous integers for\n",
    "    # each clade, and define a clade by the left-most and right-most identifiers,\n",
    "    # such as [4,7] for the clade [4,5,6,7].\n",
    "    # \n",
    "    # Note we extend the table to contain the following fields, which will be \n",
    "    # populated later in the algorithm:\n",
    "    #  3: node defining the clade in T1\n",
    "    #  4: node defining the clade in T2 \n",
    "    #  5: size of the island rooted in the clade in T1\n",
    "    #  6: size of the island rooted in the clade in T2 \n",
    "    #  7: labels in the island rooted in the clade in T1\n",
    "    #  8: labels in the island rooted in the clade in T2\n",
    "    def buildX(T):\n",
    "        X = []\n",
    "        n = len(T.leaf_nodes())\n",
    "        tax2id = {}\n",
    "        n2bip = {}\n",
    "\n",
    "        def buildX_r(T):\n",
    "            if T.is_leaf():\n",
    "                # left right id2taxon nodeT1 nodeT2 sizeIsland1 sizeIsland2 labels1 labels2\n",
    "                X.append([0,0,T.taxon,0,0,0,0,set(),set()])\n",
    "                i = len(X)-1\n",
    "                tax2id[T.taxon] = i\n",
    "                return(i,i)\n",
    "            else:\n",
    "                min_l=n\n",
    "                max_r=0\n",
    "                for c in T.child_node_iter():\n",
    "                    l,r = buildX_r(c)\n",
    "                    min_l=min(l,min_l)\n",
    "                    max_r=max(r,max_r)\n",
    "                X[min_l][0]=X[max_r][0]=min_l\n",
    "                X[min_l][1]=X[max_r][1]=max_r\n",
    "                X[min_l][3]=X[max_r][3]=T\n",
    "                n2bip[T]=[min_l,max_r]\n",
    "                return(min_l,max_r)\n",
    "        buildX_r(T.seed_node)\n",
    "        return(X,tax2id,n2bip)\n",
    "\n",
    "    # findgood() identifies the good edge in T2 and generates the \n",
    "    # node-to-clade hash table \n",
    "    def findgood(T,X,tax2id):\n",
    "        n2bip = {}\n",
    "        n = len(T.leaf_nodes())\n",
    "        def findgood_r(t):\n",
    "            if t.is_leaf():\n",
    "                i = tax2id[t.taxon]\n",
    "                return(i,i,1)\n",
    "            else:\n",
    "                min_l=n\n",
    "                max_r=0\n",
    "                tot_w=0\n",
    "                for c in t.child_node_iter():\n",
    "                    l,r,w = findgood_r(c)\n",
    "                    min_l=min(l,min_l)\n",
    "                    max_r=max(r,max_r)\n",
    "                    tot_w+=w\n",
    "                if max_r-min_l+1 == tot_w:\n",
    "                    if (X[min_l][0]==min_l and X[min_l][1]==max_r):\n",
    "                        X[min_l][4]=t\n",
    "                        n2bip[t]=[min_l,max_r]\n",
    "                    elif (X[max_r][0]==min_l and X[max_r][1]==max_r):\n",
    "                        X[max_r][4]=t\n",
    "                        n2bip[t]=[min_l,max_r]                                                                                                                                              \n",
    "                return(min_l,max_r,tot_w)                                                                                                                                                   \n",
    "        findgood_r(T.seed_node)                                                                                                                                                             \n",
    "        return(n2bip)                                                                                           \n",
    "       # this function is used to identify the islands and update the table X \n",
    "    # with the relevant labels and sizes\n",
    "    def getIslandsDay(t,X,n2bip,isT1):\n",
    "\n",
    "        # An island is separated from the rest of the tree\n",
    "        # by good edges. In the traversal below, we do a preorder\n",
    "        # traversal and create a new island whenever we meet a clade\n",
    "        # defined in X\n",
    "        #                         ____\n",
    "        #                        /\n",
    "        #                 **** x6\n",
    "        #                *       \\___\n",
    "        #         **** x3                ......\n",
    "        #        *       \\___    ______x7\n",
    "        #   ----x1              /        ...\n",
    "        #        *       **** x4        ____\n",
    "        #         **** x2       ``--    /\n",
    "        #                *********** x5\n",
    "        #                              \\_____\n",
    "        #\n",
    "\n",
    "        n = len(X)\n",
    "        off = 5 if isT1 else 6\n",
    "\n",
    "        def mytraversal(t,is_rooted,parentIslandId=0):\n",
    "\n",
    "            if t.is_leaf():\n",
    "                return()\n",
    "            try:\n",
    "                [l,r] = n2bip[t]\n",
    "            except KeyError:\n",
    "                l=r=0 #dummy value that will fail retrieval in X\n",
    "\n",
    "            row=-1\n",
    "            if (X[l][0]==l and X[l][1]==r and X[l][4]!=0):\n",
    "                row=l\n",
    "            elif (X[r][0]==l and X[r][1]==r and X[r][4]!=0):\n",
    "                row=r\n",
    "\n",
    "            # clade is in common (i.e. valid entry in X)\n",
    "            if row > -1:\n",
    "                # end of previous island, so new island. \n",
    "                islandId = row\n",
    "                X[row][off+2].add(t.label)\n",
    "                for c in t.child_node_iter():\n",
    "                    mytraversal(c,is_rooted,islandId)\n",
    "            else:\n",
    "                # continue previous island\n",
    "                islandId = parentIslandId\n",
    "                # we process the node unless it's the fake root of an unrooted tree:\n",
    "                if not is_rooted and len(t.adjacent_nodes()) == 2:\n",
    "                    if t.label != None:\n",
    "                        warnings.warn('The root of an unrooted tree should not have a label')\n",
    "                else:\n",
    "                    X[islandId][off+2].add(t.label)\n",
    "                    X[islandId][off] += 1\n",
    "\n",
    "                for c in t.child_node_iter():\n",
    "                    mytraversal(c,is_rooted,islandId)\n",
    "\n",
    "        mytraversal(t.seed_node, t.is_rooted)\n",
    "        return()\n",
    "\n",
    "    # check that the taxon namespace is consistent\n",
    "    if t1.taxon_namespace != t2.taxon_namespace:\n",
    "        raise ValueError('Cannot compare trees defined with different taxon_namespace')\n",
    "    else:\n",
    "        taxa = t1.taxon_namespace\n",
    "\n",
    "    # convert unrooted to rooted trees\n",
    "    if not t1.is_rooted() and not t2.is_rooted():\n",
    "        myt1=t1.clone(depth=1)\n",
    "        myt2=t2.clone(depth=1)\n",
    "\n",
    "        node_n1 = myt1.find_node_for_taxon(taxa[-1])\n",
    "        myt1.reroot_at_edge(node_n1.edge)\n",
    "        myt1.prune_taxa([taxa[-1]])\n",
    "        node_n2 = myt2.find_node_for_taxon(taxa[-1])\n",
    "        myt2.reroot_at_edge(node_n2.edge)\n",
    "        myt2.prune_taxa([taxa[-1]])\n",
    "\n",
    "    elif t1.is_rooted() and t2.is_rooted():\n",
    "        myt1=t1.clone(depth=1)\n",
    "        myt2=t2.clone(depth=1)\n",
    "    else:\n",
    "        raise TypeError('Cannot compare a rooted tree with an unrooted tree.')\n",
    "\n",
    "    X, tax2id, n12bip = buildX(myt1)\n",
    "    n22bip = findgood(myt2,X,tax2id)\n",
    "    getIslandsDay(myt1,X,n12bip,True)\n",
    "    getIslandsDay(myt2,X,n22bip,False)\n",
    "    rf = subs = 0\n",
    "    for i in X:\n",
    "        if i[4] != 0:\n",
    "            rf += i[5]+i[6]\n",
    "            if len(i[7].intersection(i[8])) == 0:\n",
    "                subs +=1\n",
    "\n",
    "    logging.info('RF dist: %d | Label subst: %d | Total LRF: %d\\n' % (rf,subs,rf+subs))\n",
    "    return(rf+subs)"
   ]
  },
  {
   "cell_type": "code",
   "execution_count": null,
   "metadata": {
    "collapsed": true
   },
   "outputs": [],
   "source": [
    "def buildX(T):\n",
    "    X = []\n",
    "    n = len(T.leaf_nodes())\n",
    "    tax2id = {}\n",
    "    n2bip = {}\n",
    "\n",
    "    def buildX_r(T):\n",
    "        if T.is_leaf():\n",
    "            # left right id2taxon nodeT1 nodeT2 sizeIsland1 sizeIsland2 labels1 labels2\n",
    "            X.append([0,0,T.taxon,0,0,0,0,set(),set()])\n",
    "            i = len(X)-1\n",
    "            tax2id[T.taxon] = i\n",
    "            return(i,i)\n",
    "        else:\n",
    "            min_l=n\n",
    "            max_r=0\n",
    "            for c in T.child_node_iter():\n",
    "                l,r = buildX_r(c)\n",
    "                min_l=min(l,min_l)\n",
    "                max_r=max(r,max_r)\n",
    "            X[min_l][0]=X[max_r][0]=min_l\n",
    "            X[min_l][1]=X[max_r][1]=max_r\n",
    "            X[min_l][3]=X[max_r][3]=T\n",
    "            n2bip[T]=[min_l,max_r]\n",
    "            return(min_l,max_r)\n",
    "    buildX_r(T.seed_node)\n",
    "    return(X,tax2id,n2bip)\n",
    "\n",
    "def findgood(T,X,tax2id):\n",
    "    n2bip = {}\n",
    "    n = len(T.leaf_nodes())\n",
    "    def findgood_r(t):\n",
    "        if t.is_leaf():\n",
    "            i = tax2id[t.taxon]\n",
    "            return(i,i,1)\n",
    "        else:\n",
    "            min_l=n\n",
    "            max_r=0\n",
    "            tot_w=0\n",
    "            for c in t.child_node_iter():\n",
    "                l,r,w = findgood_r(c)\n",
    "                min_l=min(l,min_l)\n",
    "                max_r=max(r,max_r)\n",
    "                tot_w+=w\n",
    "            if max_r-min_l+1 == tot_w:\n",
    "                if (X[min_l][0]==min_l and X[min_l][1]==max_r):\n",
    "                    X[min_l][4]=t\n",
    "                    n2bip[t]=[min_l,max_r]\n",
    "                elif (X[max_r][0]==min_l and X[max_r][1]==max_r):\n",
    "                    X[max_r][4]=t\n",
    "                    n2bip[t]=[min_l,max_r]\n",
    "            return(min_l,max_r,tot_w)\n",
    "    findgood_r(T.seed_node)\n",
    "    return(n2bip)\n",
    "def getIslands2(t,X,n2bip,isT1):\n",
    "\n",
    "    #                         ____\n",
    "    #                        /\n",
    "    #                 **** x6\n",
    "    #                *       \\___\n",
    "    #         **** x3                ......\n",
    "    #        *       \\___    ______x7\n",
    "    #   ----x1              /        ...\n",
    "    #        *       **** x4        ____\n",
    "    #         **** x2       ``--    /\n",
    "    #                *********** x5\n",
    "    #                              \\_____\n",
    "    #\n",
    "\n",
    "\n",
    "    n = len(X)\n",
    "    off = 5 if isT1 else 6\n",
    "\n",
    "    def mytraversal(t,is_rooted,parentIslandId=0):\n",
    "\n",
    "        if t.is_leaf():\n",
    "            return()\n",
    "\n",
    "        try: \n",
    "            [l,r] = n2bip[t]\n",
    "        except KeyError:\n",
    "            l=r=0 #dummy value \n",
    "        row=-1\n",
    "\n",
    "        if (X[l][0]==l and X[l][1]==r and X[l][4]!=0):\n",
    "            row=l\n",
    "        elif (X[r][0]==l and X[r][1]==r and X[r][4]!=0):\n",
    "            row=r\n",
    "\n",
    "        # clade is in common \n",
    "        if row > -1:\n",
    "            # end of previous island, so new island. \n",
    "            islandId = row\n",
    "            X[row][off+2].add(t.label)\n",
    "            for c in t.child_node_iter():\n",
    "                mytraversal(c,is_rooted,islandId)\n",
    "        else:\n",
    "            # continue previous island\n",
    "            islandId = parentIslandId\n",
    "            # we process the node unless it's the fake root of an unrooted tree:\n",
    "            if not is_rooted and len(t.adjacent_nodes()) == 2:\n",
    "                if t.label != None:\n",
    "                    warnings.warn('The root of an unrooted tree should not have a label')\n",
    "            else:\n",
    "                X[islandId][off+2].add(t.label)\n",
    "                X[islandId][off] += 1\n",
    "\n",
    "            for c in t.child_node_iter():\n",
    "                mytraversal(c,is_rooted,islandId)\n",
    "\n",
    "    mytraversal(t.seed_node, t.is_rooted)\n",
    "    return()\n"
   ]
  },
  {
   "cell_type": "code",
   "execution_count": null,
   "metadata": {
    "collapsed": false
   },
   "outputs": [],
   "source": [
    "#X\n",
    "getIslands2(t1,X,n12bip,True)\n",
    "getIslands2(t2,X,n22bip,False)\n",
    "# compute distance\n",
    "rf = subs = 0\n",
    "for i in X:\n",
    "    if i[4] != 0:\n",
    "        rf += i[5]+i[6]\n",
    "        if len(i[7].intersection(i[8])) == 0:\n",
    "            subs +=1\n",
    "\n",
    "print(rf,subs,rf+subs)"
   ]
  },
  {
   "cell_type": "code",
   "execution_count": null,
   "metadata": {
    "collapsed": false
   },
   "outputs": [],
   "source": [
    "computeLRF(t3,t4)"
   ]
  },
  {
   "cell_type": "code",
   "execution_count": null,
   "metadata": {
    "collapsed": false
   },
   "outputs": [],
   "source": [
    "X"
   ]
  },
  {
   "cell_type": "code",
   "execution_count": null,
   "metadata": {
    "collapsed": false
   },
   "outputs": [],
   "source": [
    "t1.is_rooted()"
   ]
  },
  {
   "cell_type": "code",
   "execution_count": null,
   "metadata": {
    "collapsed": true
   },
   "outputs": [],
   "source": []
  },
  {
   "cell_type": "code",
   "execution_count": null,
   "metadata": {
    "collapsed": false
   },
   "outputs": [],
   "source": [
    "tax2id"
   ]
  },
  {
   "cell_type": "code",
   "execution_count": null,
   "metadata": {
    "collapsed": true
   },
   "outputs": [],
   "source": []
  },
  {
   "cell_type": "code",
   "execution_count": null,
   "metadata": {
    "collapsed": false
   },
   "outputs": [],
   "source": [
    "def getGoodedges(T,X):\n",
    "    g = []\n",
    "\n",
    "b1,bTn1 = identify_labelled_bipartitions(t1)\n",
    "print(b1)"
   ]
  },
  {
   "cell_type": "code",
   "execution_count": null,
   "metadata": {
    "collapsed": true
   },
   "outputs": [],
   "source": [
    "nsamples = 10\n",
    "ndist = 20\n",
    "taxa = dendropy.TaxonNamespace()\n",
    "p53 = dendropy.Tree.get_from_path('NOX4.Ensembl99.nhx','newick', taxon_namespace=taxa)\n",
    "t1 = parseEnsemblLabels(p53)\n",
    "t = t1.clone(depth=1)\n",
    "#t = cloneAndReroot(t1)\n",
    "\n",
    "random.seed(12)\n",
    "abort = False\n",
    "res_rf = []\n",
    "res_s = []\n",
    "\n",
    "logging.root.level = 40\n",
    "for i in range(0,ndist):\n",
    "    res_rf.append([])\n",
    "    res_s.append([])\n",
    "    for j in range(0,nsamples):\n",
    "        t2 = mutateLabeledTree(t.clone(depth=1), i, model='LRF')\n",
    "        res_s[i].append(computeLRF(t,t2))\n",
    "        res_rf[i].append(treecompare.symmetric_difference(t,t2))\n",
    "\n",
    "res = []\n",
    "logging.root.level = 40\n",
    "for i in range(0,ndist):\n",
    "    res.append([])\n",
    "    for j in range(0,nsamples):\n",
    "        t2 = mutateLabeledTree(t.clone(depth=1), i, model='ELRF')        \n",
    "        res[i].append(computeELRF(t,t2))"
   ]
  },
  {
   "cell_type": "code",
   "execution_count": null,
   "metadata": {
    "collapsed": false
   },
   "outputs": [],
   "source": [
    "x = np.array(res_rf)\n",
    "y = x.transpose()\n",
    "df = pd.DataFrame(y)\n",
    "#print('Standard Robinson Foulds:')\n",
    "\n",
    "p1 = df.plot.box()\n",
    "p1.set_title('Robinson Foulds (RF)')\n",
    "p1.set_xlabel('Number of random edit operations')\n",
    "p1.set_ylabel('Exact RF distance')\n",
    "#z = np.linspace(*p1.get_xlim())\n",
    "p1.plot(list(range(1,ndist+1)), list(range(0,ndist)), color = 'grey', linewidth = 1)\n",
    "o1 = p1.get_figure()\n",
    "o1.savefig('RF.pdf')\n",
    "\n",
    "x = np.array(res_s)\n",
    "y = x.transpose()\n",
    "df = pd.DataFrame(y)\n",
    "#print('Labelled Robinson Foulds:')\n",
    "#df.plot.box()\n",
    "\n",
    "p3 = df.plot.box()\n",
    "p3.set_title('Labeled Robinson Foulds (LRF)')\n",
    "p3.set_xlabel('Number of random edit operations')\n",
    "p3.set_ylabel('Exact LRF distance')\n",
    "#z = np.linspace(*p2.get_xlim())\n",
    "p3.plot(list(range(1,ndist+1)), list(range(0,ndist)), color = 'grey', linewidth = 1)\n",
    "o3 = p3.get_figure()\n",
    "o3.savefig('LRF.pdf')"
   ]
  },
  {
   "cell_type": "code",
   "execution_count": null,
   "metadata": {
    "collapsed": false
   },
   "outputs": [],
   "source": [
    "x = np.array(res)\n",
    "y = x.transpose()\n",
    "df = pd.DataFrame(y)\n",
    "#print('Labelled Robinson Foulds:')\n",
    "#df.plot.box()\n",
    "\n",
    "p2 = df.plot.box()\n",
    "p2.set_title('Edge-based Labeled Robinson Foulds (ELRF)')\n",
    "p2.set_xlabel('Number of random edit operations')\n",
    "p2.set_ylabel('Approximate ELRF distance')\n",
    "#z = np.linspace(*p2.get_xlim())\n",
    "p2.plot(list(range(1,ndist+1)), list(range(0,ndist)), color = 'grey', linewidth = 1)\n",
    "o2 = p2.get_figure()\n",
    "o2.savefig('ELRF.pdf')\n"
   ]
  }
 ],
 "metadata": {
  "kernelspec": {
   "display_name": "Python 3",
   "language": "python",
   "name": "python3"
  },
  "language_info": {
   "codemirror_mode": {
    "name": "ipython",
    "version": 3
   },
   "file_extension": ".py",
   "mimetype": "text/x-python",
   "name": "python",
   "nbconvert_exporter": "python",
   "pygments_lexer": "ipython3",
   "version": "3.5.1"
  }
 },
 "nbformat": 4,
 "nbformat_minor": 1
}
